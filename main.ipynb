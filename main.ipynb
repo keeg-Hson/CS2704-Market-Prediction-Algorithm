{
 "cells": [
  {
   "cell_type": "code",
   "execution_count": null,
   "metadata": {},
   "outputs": [],
   "source": [
    "#-----------MARKET PREDICTION ALGORITHM-----------\n",
    "#ADDITIONAL: INSTALL LIBRARIES ON LOCAL MACHINE (OR FROM TERMINAL TO REPO DIRECTLY? LOOK INTO THIS)\n",
    "\n",
    "#___________USE OF ALPHA VANTAGE API TO PULL LIVE STOCK VALUATION FIGURES, TRAIN MODEL OFF OF THESE VALUATIONS (RANDOM FOREST MODEL)________\n",
    "\n",
    "#LIBRARIES REQD'\n",
    "import requests #PULLS STOCK MARKET DATA\n",
    "import pandas as pd #ENHANCED DATA MANIPULATION LAYER\n",
    "import time #PAUSE/TIMIING PROTOCOL: NECESSARY FOR LIVE VALUATIONS\n",
    "\n",
    "#ADDITIONAL (IF NEEDED)\n",
    "import cron #COULD USE 'SCHEDULE': FOR AUTOMATING DAILY PIPELINE EXECUTION\n",
    "import numpy as np #ENHANCED NUMERICAL HANDLING\n",
    "import matplotlib.pyplot as plt #GRAPH STATS\n",
    "import sklearn #ML MODEL TRAINING EVALUATING ACCURACY; *RANDOM FOREST TRAINING MODEL* IS TO BE UTILIZED HERE\n",
    "import seaborn as sns #DATA VISUALIZATION\n",
    "import joblib #SAVE/LOAD MODEL, GIVE USER CAPABILITY TO RUN ACROSS VARIOUS SESSIONS USING PRESET METRICS\n",
    " \n",
    "\n",
    "\n",
    "#-----------GENERAL PSEUDOCODE/HIERARCHICAL LAYOUT-----------\n",
    "\n",
    "#CRITERIA/FUNCTIONAL COMPONENTS\n",
    "#1. DATA INGESTION\n",
    "#2. FEATURE ENGINEERING\n",
    "#3. \"CRASH LABELING\" LOGIC\n",
    "#4. ML MODEL ARCHETECHURE (BASED ON RANDOM FOREST MODEL)\n",
    "#5. LIVE PREDICTION PIPELINE"
   ]
  },
  {
   "cell_type": "code",
   "execution_count": null,
   "metadata": {},
   "outputs": [],
   "source": []
  }
 ],
 "metadata": {
  "language_info": {
   "name": "python"
  }
 },
 "nbformat": 4,
 "nbformat_minor": 2
}
